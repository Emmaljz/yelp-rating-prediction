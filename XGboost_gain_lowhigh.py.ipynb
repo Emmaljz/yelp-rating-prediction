{
 "cells": [
  {
   "cell_type": "code",
   "execution_count": null,
   "id": "initial_id",
   "metadata": {
    "collapsed": true
   },
   "outputs": [],
   "source": [
    "import pandas as pd\n",
    "import numpy as np\n",
    "import matplotlib.pyplot as plt\n",
    "import seaborn as sns\n",
    "import xgboost as xgb\n",
    "\n",
    "\n",
    "\n",
    "sns.set(style=\"whitegrid\", font_scale=1.2)\n",
    "\n",
    "fig, axes = plt.subplots(1, 2, figsize=(16, 7))\n",
    "\n",
    "colors_low = ['steelblue'] * len(low_df)\n",
    "bars_low = axes[0].barh(low_df['Feature'], low_df['Gain'], color=colors_low)\n",
    "axes[0].invert_yaxis()  # largest value on top\n",
    "axes[0].set_xlabel(\"Gain\", fontsize=14)\n",
    "axes[0].set_ylabel(\"Feature\", fontsize=14)\n",
    "axes[0].tick_params(axis='y', labelsize=12)\n",
    "axes[0].tick_params(axis='x', labelsize=12)\n",
    "\n",
    "for i in range(min(5, len(low_df))):\n",
    "    val = low_df['Gain'].iloc[i]\n",
    "    bar = bars_low[i]\n",
    "    axes[0].text(val + 0.002, bar.get_y() + bar.get_height()/2,\n",
    "                 f\"{val:.3f}\", va='center', fontsize=12, weight='bold')\n",
    "\n",
    "colors_high = ['steelblue'] * len(high_df)\n",
    "bars_high = axes[1].barh(high_df['Feature'], high_df['Gain'], color=colors_high)\n",
    "axes[1].invert_yaxis()\n",
    "axes[1].set_xlabel(\"Gain\", fontsize=14)\n",
    "axes[1].set_ylabel(\"Feature\", fontsize=14)\n",
    "axes[1].tick_params(axis='y', labelsize=12)\n",
    "axes[1].tick_params(axis='x', labelsize=12)\n",
    "\n",
    "for i in range(min(5, len(high_df))):\n",
    "    val = high_df['Gain'].iloc[i]\n",
    "    bar = bars_high[i]\n",
    "    axes[1].text(val + 0.002, bar.get_y() + bar.get_height()/2,\n",
    "                 f\"{val:.3f}\", va='center', fontsize=12, weight='bold')\n",
    "\n",
    "plt.tight_layout()\n",
    "plt.show()"
   ]
  }
 ],
 "metadata": {
  "kernelspec": {
   "display_name": "Python 3",
   "language": "python",
   "name": "python3"
  },
  "language_info": {
   "codemirror_mode": {
    "name": "ipython",
    "version": 2
   },
   "file_extension": ".py",
   "mimetype": "text/x-python",
   "name": "python",
   "nbconvert_exporter": "python",
   "pygments_lexer": "ipython2",
   "version": "2.7.6"
  }
 },
 "nbformat": 4,
 "nbformat_minor": 5
}
