{
 "cells": [
  {
   "cell_type": "code",
   "execution_count": null,
   "id": "initial_id",
   "metadata": {
    "collapsed": true
   },
   "outputs": [],
   "source": [
    "import pandas as pd\n",
    "import numpy as np\n",
    "import matplotlib.pyplot as plt\n",
    "import seaborn as sns\n",
    "import xgboost as xgb\n",
    "import shap\n",
    "\n",
    "file_path = r\"C:\\Users\\Lenovo\\Desktop\\Yelp Dataset\\final_data1.xlsx\"\n",
    "df = pd.read_excel(file_path)\n",
    "\n",
    "y = df['stars']\n",
    "X = df.drop(columns=['business_id', 'stars'])\n",
    "\n",
    "xgb_model = xgb.XGBRegressor(\n",
    "    n_estimators=500,\n",
    "    learning_rate=0.05,\n",
    "    max_depth=6,\n",
    "    subsample=0.8,\n",
    "    colsample_bytree=0.8,\n",
    "    random_state=42\n",
    ")\n",
    "xgb_model.fit(X, y)\n",
    "\n",
    "explainer = shap.Explainer(xgb_model, X)\n",
    "shap_values = explainer(X)\n",
    "\n",
    "shap_df = pd.DataFrame({\n",
    "    'Feature': X.columns,\n",
    "    'MeanAbsSHAP': np.abs(shap_values.values).mean(axis=0)\n",
    "}).sort_values(by='MeanAbsSHAP', ascending=False).head(15)\n",
    "\n",
    "sns.set(style=\"whitegrid\", font_scale=1.2)\n",
    "plt.figure(figsize=(10, 7))\n",
    "\n",
    "colors = []\n",
    "for feature in shap_df['Feature']:\n",
    "    idx = X.columns.get_loc(feature)\n",
    "    mean_shap_val = shap_values.values[:, idx].mean()\n",
    "    colors.append('steelblue' if mean_shap_val >= 0 else 'darkorange')\n",
    "\n",
    "bars = plt.barh(shap_df['Feature'], shap_df['MeanAbsSHAP'], color=colors)\n",
    "plt.gca().invert_yaxis()  # largest value on top\n",
    "plt.xlabel(\"Mean |SHAP value|\", fontsize=14)\n",
    "plt.ylabel(\"Feature\", fontsize=14)\n",
    "\n",
    "for i in range(5):\n",
    "    val = shap_df['MeanAbsSHAP'].iloc[i]\n",
    "    bar = bars[i]\n",
    "    plt.text(val + 0.002, bar.get_y() + bar.get_height()/2,\n",
    "             f\"{val:.3f}\", va='center', fontsize=12, weight='bold')\n",
    "\n",
    "plt.tight_layout()\n",
    "plt.show()"
   ]
  }
 ],
 "metadata": {
  "kernelspec": {
   "display_name": "Python 3",
   "language": "python",
   "name": "python3"
  },
  "language_info": {
   "codemirror_mode": {
    "name": "ipython",
    "version": 2
   },
   "file_extension": ".py",
   "mimetype": "text/x-python",
   "name": "python",
   "nbconvert_exporter": "python",
   "pygments_lexer": "ipython2",
   "version": "2.7.6"
  }
 },
 "nbformat": 4,
 "nbformat_minor": 5
}
